{
 "cells": [
  {
   "cell_type": "code",
   "execution_count": 3,
   "metadata": {},
   "outputs": [],
   "source": [
    "from pyspark.sql import SparkSession\n",
    "spark=SparkSession.builder.appName(\"dataframe\").getOrCreate()"
   ]
  },
  {
   "cell_type": "code",
   "execution_count": 5,
   "metadata": {},
   "outputs": [],
   "source": [
    "df_pyspark= spark.read.csv(\"iris.csv\", header=True,inferSchema=True)"
   ]
  },
  {
   "cell_type": "code",
   "execution_count": 8,
   "metadata": {},
   "outputs": [
    {
     "name": "stdout",
     "output_type": "stream",
     "text": [
      "+---+---+---+---+-----------+\n",
      "|  A|  B|  C|  D|          E|\n",
      "+---+---+---+---+-----------+\n",
      "|5.1|3.5|1.4|0.2|Iris-setosa|\n",
      "|4.9|3.0|1.4|0.2|Iris-setosa|\n",
      "|4.7|3.2|1.3|0.2|Iris-setosa|\n",
      "|4.6|3.1|1.5|0.2|Iris-setosa|\n",
      "|5.0|3.6|1.4|0.2|Iris-setosa|\n",
      "|5.4|3.9|1.7|0.4|Iris-setosa|\n",
      "|4.6|3.4|1.4|0.3|Iris-setosa|\n",
      "|5.0|3.4|1.5|0.2|Iris-setosa|\n",
      "|4.4|2.9|1.4|0.2|Iris-setosa|\n",
      "|4.9|3.1|1.5|0.1|Iris-setosa|\n",
      "|5.4|3.7|1.5|0.2|Iris-setosa|\n",
      "|4.8|3.4|1.6|0.2|Iris-setosa|\n",
      "|4.8|3.0|1.4|0.1|Iris-setosa|\n",
      "|4.3|3.0|1.1|0.1|Iris-setosa|\n",
      "|5.8|4.0|1.2|0.2|Iris-setosa|\n",
      "|5.7|4.4|1.5|0.4|Iris-setosa|\n",
      "|5.4|3.9|1.3|0.4|Iris-setosa|\n",
      "|5.1|3.5|1.4|0.3|Iris-setosa|\n",
      "|5.7|3.8|1.7|0.3|Iris-setosa|\n",
      "|5.1|3.8|1.5|0.3|Iris-setosa|\n",
      "+---+---+---+---+-----------+\n",
      "only showing top 20 rows\n",
      "\n"
     ]
    }
   ],
   "source": [
    "df_pyspark.show()"
   ]
  },
  {
   "cell_type": "code",
   "execution_count": 13,
   "metadata": {},
   "outputs": [
    {
     "name": "stdout",
     "output_type": "stream",
     "text": [
      "+---+-----------+\n",
      "|  B|          E|\n",
      "+---+-----------+\n",
      "|3.0|Iris-setosa|\n",
      "|3.2|Iris-setosa|\n",
      "|3.1|Iris-setosa|\n",
      "|3.6|Iris-setosa|\n",
      "|3.4|Iris-setosa|\n",
      "|3.4|Iris-setosa|\n",
      "|2.9|Iris-setosa|\n",
      "|3.1|Iris-setosa|\n",
      "|3.4|Iris-setosa|\n",
      "|3.0|Iris-setosa|\n",
      "|3.0|Iris-setosa|\n",
      "|3.6|Iris-setosa|\n",
      "|3.4|Iris-setosa|\n",
      "|3.0|Iris-setosa|\n",
      "|3.4|Iris-setosa|\n",
      "|3.2|Iris-setosa|\n",
      "|3.1|Iris-setosa|\n",
      "|3.1|Iris-setosa|\n",
      "|3.2|Iris-setosa|\n",
      "|3.1|Iris-setosa|\n",
      "+---+-----------+\n",
      "only showing top 20 rows\n",
      "\n"
     ]
    }
   ],
   "source": [
    "df_pyspark.filter(\"A<=5\").select(['B','E']).show()"
   ]
  },
  {
   "cell_type": "code",
   "execution_count": 14,
   "metadata": {},
   "outputs": [
    {
     "name": "stdout",
     "output_type": "stream",
     "text": [
      "+---+---+---+---+-----------+\n",
      "|  A|  B|  C|  D|          E|\n",
      "+---+---+---+---+-----------+\n",
      "|4.9|3.0|1.4|0.2|Iris-setosa|\n",
      "|4.7|3.2|1.3|0.2|Iris-setosa|\n",
      "|4.6|3.1|1.5|0.2|Iris-setosa|\n",
      "|5.0|3.6|1.4|0.2|Iris-setosa|\n",
      "|4.6|3.4|1.4|0.3|Iris-setosa|\n",
      "|5.0|3.4|1.5|0.2|Iris-setosa|\n",
      "|4.4|2.9|1.4|0.2|Iris-setosa|\n",
      "|4.9|3.1|1.5|0.1|Iris-setosa|\n",
      "|4.8|3.4|1.6|0.2|Iris-setosa|\n",
      "|4.8|3.0|1.4|0.1|Iris-setosa|\n",
      "|4.3|3.0|1.1|0.1|Iris-setosa|\n",
      "|4.6|3.6|1.0|0.2|Iris-setosa|\n",
      "|4.8|3.4|1.9|0.2|Iris-setosa|\n",
      "|5.0|3.0|1.6|0.2|Iris-setosa|\n",
      "|5.0|3.4|1.6|0.4|Iris-setosa|\n",
      "|4.7|3.2|1.6|0.2|Iris-setosa|\n",
      "|4.8|3.1|1.6|0.2|Iris-setosa|\n",
      "|4.9|3.1|1.5|0.1|Iris-setosa|\n",
      "|5.0|3.2|1.2|0.2|Iris-setosa|\n",
      "|4.9|3.1|1.5|0.1|Iris-setosa|\n",
      "+---+---+---+---+-----------+\n",
      "only showing top 20 rows\n",
      "\n"
     ]
    }
   ],
   "source": [
    "df_pyspark.filter(df_pyspark['A']<=5).show()"
   ]
  },
  {
   "cell_type": "code",
   "execution_count": 16,
   "metadata": {},
   "outputs": [
    {
     "name": "stdout",
     "output_type": "stream",
     "text": [
      "+---+---+---+---+---------------+\n",
      "|  A|  B|  C|  D|              E|\n",
      "+---+---+---+---+---------------+\n",
      "|4.9|3.0|1.4|0.2|    Iris-setosa|\n",
      "|4.6|3.1|1.5|0.2|    Iris-setosa|\n",
      "|4.4|2.9|1.4|0.2|    Iris-setosa|\n",
      "|4.9|3.1|1.5|0.1|    Iris-setosa|\n",
      "|4.8|3.0|1.4|0.1|    Iris-setosa|\n",
      "|4.3|3.0|1.1|0.1|    Iris-setosa|\n",
      "|5.0|3.0|1.6|0.2|    Iris-setosa|\n",
      "|4.8|3.1|1.6|0.2|    Iris-setosa|\n",
      "|4.9|3.1|1.5|0.1|    Iris-setosa|\n",
      "|4.9|3.1|1.5|0.1|    Iris-setosa|\n",
      "|4.4|3.0|1.3|0.2|    Iris-setosa|\n",
      "|4.5|2.3|1.3|0.3|    Iris-setosa|\n",
      "|4.8|3.0|1.4|0.3|    Iris-setosa|\n",
      "|4.9|2.4|3.3|1.0|Iris-versicolor|\n",
      "|5.0|2.0|3.5|1.0|Iris-versicolor|\n",
      "|5.0|2.3|3.3|1.0|Iris-versicolor|\n",
      "|4.9|2.5|4.5|1.7| Iris-virginica|\n",
      "+---+---+---+---+---------------+\n",
      "\n"
     ]
    }
   ],
   "source": [
    "df_pyspark.filter((df_pyspark['A']<=5) & (df_pyspark['B']<=3.1)).show()"
   ]
  },
  {
   "cell_type": "code",
   "execution_count": null,
   "metadata": {},
   "outputs": [],
   "source": []
  }
 ],
 "metadata": {
  "kernelspec": {
   "display_name": "Python 3",
   "language": "python",
   "name": "python3"
  },
  "language_info": {
   "codemirror_mode": {
    "name": "ipython",
    "version": 3
   },
   "file_extension": ".py",
   "mimetype": "text/x-python",
   "name": "python",
   "nbconvert_exporter": "python",
   "pygments_lexer": "ipython3",
   "version": "3.8.5"
  }
 },
 "nbformat": 4,
 "nbformat_minor": 4
}
