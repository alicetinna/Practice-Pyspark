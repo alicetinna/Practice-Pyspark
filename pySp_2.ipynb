{
 "cells": [
  {
   "cell_type": "code",
   "execution_count": 1,
   "metadata": {},
   "outputs": [],
   "source": [
    "from pyspark.sql import SparkSession"
   ]
  },
  {
   "cell_type": "code",
   "execution_count": 2,
   "metadata": {},
   "outputs": [],
   "source": [
    "spark=SparkSession.builder.appName('DataFrame').getOrCreate()"
   ]
  },
  {
   "cell_type": "code",
   "execution_count": 3,
   "metadata": {},
   "outputs": [
    {
     "data": {
      "text/html": [
       "\n",
       "            <div>\n",
       "                <p><b>SparkSession - in-memory</b></p>\n",
       "                \n",
       "        <div>\n",
       "            <p><b>SparkContext</b></p>\n",
       "\n",
       "            <p><a href=\"http://10.0.0.65:4041\">Spark UI</a></p>\n",
       "\n",
       "            <dl>\n",
       "              <dt>Version</dt>\n",
       "                <dd><code>v3.3.0</code></dd>\n",
       "              <dt>Master</dt>\n",
       "                <dd><code>local[*]</code></dd>\n",
       "              <dt>AppName</dt>\n",
       "                <dd><code>DataFrame</code></dd>\n",
       "            </dl>\n",
       "        </div>\n",
       "        \n",
       "            </div>\n",
       "        "
      ],
      "text/plain": [
       "<pyspark.sql.session.SparkSession at 0x233d2308dc0>"
      ]
     },
     "execution_count": 3,
     "metadata": {},
     "output_type": "execute_result"
    }
   ],
   "source": [
    "spark\n"
   ]
  },
  {
   "cell_type": "code",
   "execution_count": 8,
   "metadata": {},
   "outputs": [],
   "source": [
    "df_pyspark=spark.read.option('header','true').csv(\"iris.csv\",inferSchema=True)"
   ]
  },
  {
   "cell_type": "code",
   "execution_count": 9,
   "metadata": {},
   "outputs": [
    {
     "name": "stdout",
     "output_type": "stream",
     "text": [
      "root\n",
      " |-- A: double (nullable = true)\n",
      " |-- B: double (nullable = true)\n",
      " |-- C: double (nullable = true)\n",
      " |-- D: double (nullable = true)\n",
      " |-- E: string (nullable = true)\n",
      "\n"
     ]
    }
   ],
   "source": [
    "df_pyspark.printSchema()"
   ]
  },
  {
   "cell_type": "code",
   "execution_count": 10,
   "metadata": {},
   "outputs": [],
   "source": [
    "df_pyspark= spark.read.csv('iris.csv', header=True , inferSchema=True)"
   ]
  },
  {
   "cell_type": "code",
   "execution_count": 11,
   "metadata": {},
   "outputs": [
    {
     "data": {
      "text/plain": [
       "DataFrame[A: double, B: double, C: double, D: double, E: string]"
      ]
     },
     "execution_count": 11,
     "metadata": {},
     "output_type": "execute_result"
    }
   ],
   "source": [
    "df_pyspark"
   ]
  },
  {
   "cell_type": "code",
   "execution_count": 12,
   "metadata": {},
   "outputs": [
    {
     "name": "stdout",
     "output_type": "stream",
     "text": [
      "root\n",
      " |-- A: double (nullable = true)\n",
      " |-- B: double (nullable = true)\n",
      " |-- C: double (nullable = true)\n",
      " |-- D: double (nullable = true)\n",
      " |-- E: string (nullable = true)\n",
      "\n"
     ]
    }
   ],
   "source": [
    "df_pyspark.printSchema()"
   ]
  },
  {
   "cell_type": "code",
   "execution_count": 13,
   "metadata": {},
   "outputs": [
    {
     "data": {
      "text/plain": [
       "pyspark.sql.dataframe.DataFrame"
      ]
     },
     "execution_count": 13,
     "metadata": {},
     "output_type": "execute_result"
    }
   ],
   "source": [
    "type(df_pyspark)"
   ]
  },
  {
   "cell_type": "code",
   "execution_count": 16,
   "metadata": {},
   "outputs": [
    {
     "data": {
      "text/plain": [
       "['A', 'B', 'C', 'D', 'E']"
      ]
     },
     "execution_count": 16,
     "metadata": {},
     "output_type": "execute_result"
    }
   ],
   "source": [
    "df_pyspark.columns"
   ]
  },
  {
   "cell_type": "code",
   "execution_count": 17,
   "metadata": {},
   "outputs": [
    {
     "data": {
      "text/plain": [
       "[Row(A=5.1, B=3.5, C=1.4, D=0.2, E='Iris-setosa'),\n",
       " Row(A=4.9, B=3.0, C=1.4, D=0.2, E='Iris-setosa'),\n",
       " Row(A=4.7, B=3.2, C=1.3, D=0.2, E='Iris-setosa')]"
      ]
     },
     "execution_count": 17,
     "metadata": {},
     "output_type": "execute_result"
    }
   ],
   "source": [
    "df_pyspark.head(3)"
   ]
  },
  {
   "cell_type": "code",
   "execution_count": 19,
   "metadata": {},
   "outputs": [
    {
     "name": "stdout",
     "output_type": "stream",
     "text": [
      "+---+---+---+---+-----------+\n",
      "|  A|  B|  C|  D|          E|\n",
      "+---+---+---+---+-----------+\n",
      "|5.1|3.5|1.4|0.2|Iris-setosa|\n",
      "|4.9|3.0|1.4|0.2|Iris-setosa|\n",
      "|4.7|3.2|1.3|0.2|Iris-setosa|\n",
      "|4.6|3.1|1.5|0.2|Iris-setosa|\n",
      "|5.0|3.6|1.4|0.2|Iris-setosa|\n",
      "|5.4|3.9|1.7|0.4|Iris-setosa|\n",
      "|4.6|3.4|1.4|0.3|Iris-setosa|\n",
      "|5.0|3.4|1.5|0.2|Iris-setosa|\n",
      "|4.4|2.9|1.4|0.2|Iris-setosa|\n",
      "|4.9|3.1|1.5|0.1|Iris-setosa|\n",
      "|5.4|3.7|1.5|0.2|Iris-setosa|\n",
      "|4.8|3.4|1.6|0.2|Iris-setosa|\n",
      "|4.8|3.0|1.4|0.1|Iris-setosa|\n",
      "|4.3|3.0|1.1|0.1|Iris-setosa|\n",
      "|5.8|4.0|1.2|0.2|Iris-setosa|\n",
      "|5.7|4.4|1.5|0.4|Iris-setosa|\n",
      "|5.4|3.9|1.3|0.4|Iris-setosa|\n",
      "|5.1|3.5|1.4|0.3|Iris-setosa|\n",
      "|5.7|3.8|1.7|0.3|Iris-setosa|\n",
      "|5.1|3.8|1.5|0.3|Iris-setosa|\n",
      "+---+---+---+---+-----------+\n",
      "only showing top 20 rows\n",
      "\n"
     ]
    }
   ],
   "source": [
    "df_pyspark.show()"
   ]
  },
  {
   "cell_type": "code",
   "execution_count": 22,
   "metadata": {},
   "outputs": [
    {
     "data": {
      "text/plain": [
       "pyspark.sql.dataframe.DataFrame"
      ]
     },
     "execution_count": 22,
     "metadata": {},
     "output_type": "execute_result"
    }
   ],
   "source": [
    "type(df_pyspark.select(\"E\"))"
   ]
  },
  {
   "cell_type": "code",
   "execution_count": 21,
   "metadata": {},
   "outputs": [
    {
     "name": "stdout",
     "output_type": "stream",
     "text": [
      "+-----------+\n",
      "|          E|\n",
      "+-----------+\n",
      "|Iris-setosa|\n",
      "|Iris-setosa|\n",
      "|Iris-setosa|\n",
      "|Iris-setosa|\n",
      "|Iris-setosa|\n",
      "|Iris-setosa|\n",
      "|Iris-setosa|\n",
      "|Iris-setosa|\n",
      "|Iris-setosa|\n",
      "|Iris-setosa|\n",
      "|Iris-setosa|\n",
      "|Iris-setosa|\n",
      "|Iris-setosa|\n",
      "|Iris-setosa|\n",
      "|Iris-setosa|\n",
      "|Iris-setosa|\n",
      "|Iris-setosa|\n",
      "|Iris-setosa|\n",
      "|Iris-setosa|\n",
      "|Iris-setosa|\n",
      "+-----------+\n",
      "only showing top 20 rows\n",
      "\n"
     ]
    }
   ],
   "source": [
    "df_pyspark.select(\"E\").show()"
   ]
  },
  {
   "cell_type": "code",
   "execution_count": 24,
   "metadata": {},
   "outputs": [
    {
     "name": "stdout",
     "output_type": "stream",
     "text": [
      "+-----------+---+\n",
      "|          E|  A|\n",
      "+-----------+---+\n",
      "|Iris-setosa|5.1|\n",
      "|Iris-setosa|4.9|\n",
      "|Iris-setosa|4.7|\n",
      "|Iris-setosa|4.6|\n",
      "|Iris-setosa|5.0|\n",
      "|Iris-setosa|5.4|\n",
      "|Iris-setosa|4.6|\n",
      "|Iris-setosa|5.0|\n",
      "|Iris-setosa|4.4|\n",
      "|Iris-setosa|4.9|\n",
      "|Iris-setosa|5.4|\n",
      "|Iris-setosa|4.8|\n",
      "|Iris-setosa|4.8|\n",
      "|Iris-setosa|4.3|\n",
      "|Iris-setosa|5.8|\n",
      "|Iris-setosa|5.7|\n",
      "|Iris-setosa|5.4|\n",
      "|Iris-setosa|5.1|\n",
      "|Iris-setosa|5.7|\n",
      "|Iris-setosa|5.1|\n",
      "+-----------+---+\n",
      "only showing top 20 rows\n",
      "\n"
     ]
    }
   ],
   "source": [
    "df_pyspark.select([\"E\",\"A\"]).show()"
   ]
  },
  {
   "cell_type": "code",
   "execution_count": 25,
   "metadata": {},
   "outputs": [
    {
     "data": {
      "text/plain": [
       "[('A', 'double'),\n",
       " ('B', 'double'),\n",
       " ('C', 'double'),\n",
       " ('D', 'double'),\n",
       " ('E', 'string')]"
      ]
     },
     "execution_count": 25,
     "metadata": {},
     "output_type": "execute_result"
    }
   ],
   "source": [
    "df_pyspark.dtypes"
   ]
  },
  {
   "cell_type": "code",
   "execution_count": 27,
   "metadata": {},
   "outputs": [
    {
     "name": "stdout",
     "output_type": "stream",
     "text": [
      "+-------+------------------+-------------------+------------------+------------------+--------------+\n",
      "|summary|                 A|                  B|                 C|                 D|             E|\n",
      "+-------+------------------+-------------------+------------------+------------------+--------------+\n",
      "|  count|               150|                150|               150|               150|           150|\n",
      "|   mean| 5.843333333333335| 3.0540000000000007|3.7586666666666693|1.1986666666666672|          null|\n",
      "| stddev|0.8280661279778637|0.43359431136217375| 1.764420419952262|0.7631607417008414|          null|\n",
      "|    min|               4.3|                2.0|               1.0|               0.1|   Iris-setosa|\n",
      "|    max|               7.9|                4.4|               6.9|               2.5|Iris-virginica|\n",
      "+-------+------------------+-------------------+------------------+------------------+--------------+\n",
      "\n"
     ]
    }
   ],
   "source": [
    "df_pyspark.describe().show()"
   ]
  },
  {
   "cell_type": "code",
   "execution_count": 30,
   "metadata": {},
   "outputs": [],
   "source": [
    "#adding columns\n",
    "df_pyspark=df_pyspark.withColumn(\"A+2\",df_pyspark['A']+2)"
   ]
  },
  {
   "cell_type": "code",
   "execution_count": 31,
   "metadata": {},
   "outputs": [
    {
     "name": "stdout",
     "output_type": "stream",
     "text": [
      "+---+---+---+---+-----------+---+\n",
      "|  A|  B|  C|  D|          E|A+2|\n",
      "+---+---+---+---+-----------+---+\n",
      "|5.1|3.5|1.4|0.2|Iris-setosa|7.1|\n",
      "|4.9|3.0|1.4|0.2|Iris-setosa|6.9|\n",
      "|4.7|3.2|1.3|0.2|Iris-setosa|6.7|\n",
      "|4.6|3.1|1.5|0.2|Iris-setosa|6.6|\n",
      "|5.0|3.6|1.4|0.2|Iris-setosa|7.0|\n",
      "|5.4|3.9|1.7|0.4|Iris-setosa|7.4|\n",
      "|4.6|3.4|1.4|0.3|Iris-setosa|6.6|\n",
      "|5.0|3.4|1.5|0.2|Iris-setosa|7.0|\n",
      "|4.4|2.9|1.4|0.2|Iris-setosa|6.4|\n",
      "|4.9|3.1|1.5|0.1|Iris-setosa|6.9|\n",
      "|5.4|3.7|1.5|0.2|Iris-setosa|7.4|\n",
      "|4.8|3.4|1.6|0.2|Iris-setosa|6.8|\n",
      "|4.8|3.0|1.4|0.1|Iris-setosa|6.8|\n",
      "|4.3|3.0|1.1|0.1|Iris-setosa|6.3|\n",
      "|5.8|4.0|1.2|0.2|Iris-setosa|7.8|\n",
      "|5.7|4.4|1.5|0.4|Iris-setosa|7.7|\n",
      "|5.4|3.9|1.3|0.4|Iris-setosa|7.4|\n",
      "|5.1|3.5|1.4|0.3|Iris-setosa|7.1|\n",
      "|5.7|3.8|1.7|0.3|Iris-setosa|7.7|\n",
      "|5.1|3.8|1.5|0.3|Iris-setosa|7.1|\n",
      "+---+---+---+---+-----------+---+\n",
      "only showing top 20 rows\n",
      "\n"
     ]
    }
   ],
   "source": [
    "df_pyspark.withColumn(\"A+2\",df_pyspark['A']+2).show()"
   ]
  },
  {
   "cell_type": "code",
   "execution_count": 32,
   "metadata": {},
   "outputs": [
    {
     "name": "stdout",
     "output_type": "stream",
     "text": [
      "+---+---+---+---+-----------+---+\n",
      "|  A|  B|  C|  D|          E|A+2|\n",
      "+---+---+---+---+-----------+---+\n",
      "|5.1|3.5|1.4|0.2|Iris-setosa|7.1|\n",
      "|4.9|3.0|1.4|0.2|Iris-setosa|6.9|\n",
      "|4.7|3.2|1.3|0.2|Iris-setosa|6.7|\n",
      "|4.6|3.1|1.5|0.2|Iris-setosa|6.6|\n",
      "|5.0|3.6|1.4|0.2|Iris-setosa|7.0|\n",
      "|5.4|3.9|1.7|0.4|Iris-setosa|7.4|\n",
      "|4.6|3.4|1.4|0.3|Iris-setosa|6.6|\n",
      "|5.0|3.4|1.5|0.2|Iris-setosa|7.0|\n",
      "|4.4|2.9|1.4|0.2|Iris-setosa|6.4|\n",
      "|4.9|3.1|1.5|0.1|Iris-setosa|6.9|\n",
      "|5.4|3.7|1.5|0.2|Iris-setosa|7.4|\n",
      "|4.8|3.4|1.6|0.2|Iris-setosa|6.8|\n",
      "|4.8|3.0|1.4|0.1|Iris-setosa|6.8|\n",
      "|4.3|3.0|1.1|0.1|Iris-setosa|6.3|\n",
      "|5.8|4.0|1.2|0.2|Iris-setosa|7.8|\n",
      "|5.7|4.4|1.5|0.4|Iris-setosa|7.7|\n",
      "|5.4|3.9|1.3|0.4|Iris-setosa|7.4|\n",
      "|5.1|3.5|1.4|0.3|Iris-setosa|7.1|\n",
      "|5.7|3.8|1.7|0.3|Iris-setosa|7.7|\n",
      "|5.1|3.8|1.5|0.3|Iris-setosa|7.1|\n",
      "+---+---+---+---+-----------+---+\n",
      "only showing top 20 rows\n",
      "\n"
     ]
    }
   ],
   "source": [
    "df_pyspark.show()"
   ]
  },
  {
   "cell_type": "code",
   "execution_count": 35,
   "metadata": {},
   "outputs": [],
   "source": [
    "#dropping colum\n",
    "df_pyspark=df_pyspark.drop(\"A+2\")"
   ]
  },
  {
   "cell_type": "code",
   "execution_count": 36,
   "metadata": {},
   "outputs": [
    {
     "name": "stdout",
     "output_type": "stream",
     "text": [
      "+---+---+---+---+-----------+\n",
      "|  A|  B|  C|  D|          E|\n",
      "+---+---+---+---+-----------+\n",
      "|5.1|3.5|1.4|0.2|Iris-setosa|\n",
      "|4.9|3.0|1.4|0.2|Iris-setosa|\n",
      "|4.7|3.2|1.3|0.2|Iris-setosa|\n",
      "|4.6|3.1|1.5|0.2|Iris-setosa|\n",
      "|5.0|3.6|1.4|0.2|Iris-setosa|\n",
      "|5.4|3.9|1.7|0.4|Iris-setosa|\n",
      "|4.6|3.4|1.4|0.3|Iris-setosa|\n",
      "|5.0|3.4|1.5|0.2|Iris-setosa|\n",
      "|4.4|2.9|1.4|0.2|Iris-setosa|\n",
      "|4.9|3.1|1.5|0.1|Iris-setosa|\n",
      "|5.4|3.7|1.5|0.2|Iris-setosa|\n",
      "|4.8|3.4|1.6|0.2|Iris-setosa|\n",
      "|4.8|3.0|1.4|0.1|Iris-setosa|\n",
      "|4.3|3.0|1.1|0.1|Iris-setosa|\n",
      "|5.8|4.0|1.2|0.2|Iris-setosa|\n",
      "|5.7|4.4|1.5|0.4|Iris-setosa|\n",
      "|5.4|3.9|1.3|0.4|Iris-setosa|\n",
      "|5.1|3.5|1.4|0.3|Iris-setosa|\n",
      "|5.7|3.8|1.7|0.3|Iris-setosa|\n",
      "|5.1|3.8|1.5|0.3|Iris-setosa|\n",
      "+---+---+---+---+-----------+\n",
      "only showing top 20 rows\n",
      "\n"
     ]
    }
   ],
   "source": [
    "df_pyspark.show()"
   ]
  },
  {
   "cell_type": "code",
   "execution_count": 38,
   "metadata": {},
   "outputs": [],
   "source": [
    "df_pyspark=df_pyspark.withColumnRenamed(\"A\",\"Z\")"
   ]
  },
  {
   "cell_type": "code",
   "execution_count": 39,
   "metadata": {},
   "outputs": [
    {
     "name": "stdout",
     "output_type": "stream",
     "text": [
      "+---+---+---+---+-----------+\n",
      "|  Z|  B|  C|  D|          E|\n",
      "+---+---+---+---+-----------+\n",
      "|5.1|3.5|1.4|0.2|Iris-setosa|\n",
      "|4.9|3.0|1.4|0.2|Iris-setosa|\n",
      "|4.7|3.2|1.3|0.2|Iris-setosa|\n",
      "|4.6|3.1|1.5|0.2|Iris-setosa|\n",
      "|5.0|3.6|1.4|0.2|Iris-setosa|\n",
      "|5.4|3.9|1.7|0.4|Iris-setosa|\n",
      "|4.6|3.4|1.4|0.3|Iris-setosa|\n",
      "|5.0|3.4|1.5|0.2|Iris-setosa|\n",
      "|4.4|2.9|1.4|0.2|Iris-setosa|\n",
      "|4.9|3.1|1.5|0.1|Iris-setosa|\n",
      "|5.4|3.7|1.5|0.2|Iris-setosa|\n",
      "|4.8|3.4|1.6|0.2|Iris-setosa|\n",
      "|4.8|3.0|1.4|0.1|Iris-setosa|\n",
      "|4.3|3.0|1.1|0.1|Iris-setosa|\n",
      "|5.8|4.0|1.2|0.2|Iris-setosa|\n",
      "|5.7|4.4|1.5|0.4|Iris-setosa|\n",
      "|5.4|3.9|1.3|0.4|Iris-setosa|\n",
      "|5.1|3.5|1.4|0.3|Iris-setosa|\n",
      "|5.7|3.8|1.7|0.3|Iris-setosa|\n",
      "|5.1|3.8|1.5|0.3|Iris-setosa|\n",
      "+---+---+---+---+-----------+\n",
      "only showing top 20 rows\n",
      "\n"
     ]
    }
   ],
   "source": [
    "df_pyspark.show()"
   ]
  },
  {
   "cell_type": "code",
   "execution_count": null,
   "metadata": {},
   "outputs": [],
   "source": []
  }
 ],
 "metadata": {
  "kernelspec": {
   "display_name": "Python 3",
   "language": "python",
   "name": "python3"
  },
  "language_info": {
   "codemirror_mode": {
    "name": "ipython",
    "version": 3
   },
   "file_extension": ".py",
   "mimetype": "text/x-python",
   "name": "python",
   "nbconvert_exporter": "python",
   "pygments_lexer": "ipython3",
   "version": "3.8.5"
  }
 },
 "nbformat": 4,
 "nbformat_minor": 4
}
