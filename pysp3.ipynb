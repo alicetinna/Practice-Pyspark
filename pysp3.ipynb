{
 "cells": [
  {
   "cell_type": "code",
   "execution_count": 1,
   "metadata": {},
   "outputs": [],
   "source": [
    "from pyspark.sql import SparkSession\n",
    "spark=SparkSession.builder.appName(\"Practise\").getOrCreate()"
   ]
  },
  {
   "cell_type": "code",
   "execution_count": 2,
   "metadata": {},
   "outputs": [],
   "source": [
    "df_pyspark=spark.read.csv(\"iris_mis.csv\",header=True , inferSchema=True)"
   ]
  },
  {
   "cell_type": "code",
   "execution_count": 3,
   "metadata": {},
   "outputs": [
    {
     "name": "stdout",
     "output_type": "stream",
     "text": [
      "+----+----+----+---+-----------+\n",
      "|   A|   B|   C|  D|          E|\n",
      "+----+----+----+---+-----------+\n",
      "| 5.1| 3.5| 1.4|0.2|Iris-setosa|\n",
      "| 4.9| 3.0| 1.4|0.2|Iris-setosa|\n",
      "| 4.7| 3.2| 1.3|0.2|Iris-setosa|\n",
      "| 4.6| 3.1| 1.5|0.2|Iris-setosa|\n",
      "| 5.0|null| 1.4|0.2|Iris-setosa|\n",
      "| 5.4| 3.9| 1.7|0.4|Iris-setosa|\n",
      "| 4.6| 3.4| 1.4|0.3|Iris-setosa|\n",
      "| 5.0| 3.4| 1.5|0.2|Iris-setosa|\n",
      "|null| 2.9|null|0.2|       null|\n",
      "| 4.9| 3.1| 1.5|0.1|Iris-setosa|\n",
      "| 5.4| 3.7| 1.5|0.2|Iris-setosa|\n",
      "|null| 3.4| 1.6|0.2|       null|\n",
      "| 4.8| 3.0| 1.4|0.1|Iris-setosa|\n",
      "| 4.3| 3.0| 1.1|0.1|Iris-setosa|\n",
      "+----+----+----+---+-----------+\n",
      "\n"
     ]
    }
   ],
   "source": [
    "df_pyspark.show()"
   ]
  },
  {
   "cell_type": "code",
   "execution_count": 4,
   "metadata": {},
   "outputs": [
    {
     "name": "stdout",
     "output_type": "stream",
     "text": [
      "+---+---+---+---+-----------+\n",
      "|  A|  B|  C|  D|          E|\n",
      "+---+---+---+---+-----------+\n",
      "|5.1|3.5|1.4|0.2|Iris-setosa|\n",
      "|4.9|3.0|1.4|0.2|Iris-setosa|\n",
      "|4.7|3.2|1.3|0.2|Iris-setosa|\n",
      "|4.6|3.1|1.5|0.2|Iris-setosa|\n",
      "|5.4|3.9|1.7|0.4|Iris-setosa|\n",
      "|4.6|3.4|1.4|0.3|Iris-setosa|\n",
      "|5.0|3.4|1.5|0.2|Iris-setosa|\n",
      "|4.9|3.1|1.5|0.1|Iris-setosa|\n",
      "|5.4|3.7|1.5|0.2|Iris-setosa|\n",
      "|4.8|3.0|1.4|0.1|Iris-setosa|\n",
      "|4.3|3.0|1.1|0.1|Iris-setosa|\n",
      "+---+---+---+---+-----------+\n",
      "\n"
     ]
    }
   ],
   "source": [
    "df_pyspark.na.drop().show()\n",
    "\n"
   ]
  },
  {
   "cell_type": "code",
   "execution_count": 5,
   "metadata": {},
   "outputs": [
    {
     "name": "stdout",
     "output_type": "stream",
     "text": [
      "+----+----+----+---+-----------+\n",
      "|   A|   B|   C|  D|          E|\n",
      "+----+----+----+---+-----------+\n",
      "| 5.1| 3.5| 1.4|0.2|Iris-setosa|\n",
      "| 4.9| 3.0| 1.4|0.2|Iris-setosa|\n",
      "| 4.7| 3.2| 1.3|0.2|Iris-setosa|\n",
      "| 4.6| 3.1| 1.5|0.2|Iris-setosa|\n",
      "| 5.0|null| 1.4|0.2|Iris-setosa|\n",
      "| 5.4| 3.9| 1.7|0.4|Iris-setosa|\n",
      "| 4.6| 3.4| 1.4|0.3|Iris-setosa|\n",
      "| 5.0| 3.4| 1.5|0.2|Iris-setosa|\n",
      "|null| 2.9|null|0.2|       null|\n",
      "| 4.9| 3.1| 1.5|0.1|Iris-setosa|\n",
      "| 5.4| 3.7| 1.5|0.2|Iris-setosa|\n",
      "|null| 3.4| 1.6|0.2|       null|\n",
      "| 4.8| 3.0| 1.4|0.1|Iris-setosa|\n",
      "| 4.3| 3.0| 1.1|0.1|Iris-setosa|\n",
      "+----+----+----+---+-----------+\n",
      "\n"
     ]
    }
   ],
   "source": [
    "df_pyspark.na.drop(how=\"all\").show()\n"
   ]
  },
  {
   "cell_type": "code",
   "execution_count": 6,
   "metadata": {},
   "outputs": [
    {
     "name": "stdout",
     "output_type": "stream",
     "text": [
      "+---+---+---+---+-----------+\n",
      "|  A|  B|  C|  D|          E|\n",
      "+---+---+---+---+-----------+\n",
      "|5.1|3.5|1.4|0.2|Iris-setosa|\n",
      "|4.9|3.0|1.4|0.2|Iris-setosa|\n",
      "|4.7|3.2|1.3|0.2|Iris-setosa|\n",
      "|4.6|3.1|1.5|0.2|Iris-setosa|\n",
      "|5.4|3.9|1.7|0.4|Iris-setosa|\n",
      "|4.6|3.4|1.4|0.3|Iris-setosa|\n",
      "|5.0|3.4|1.5|0.2|Iris-setosa|\n",
      "|4.9|3.1|1.5|0.1|Iris-setosa|\n",
      "|5.4|3.7|1.5|0.2|Iris-setosa|\n",
      "|4.8|3.0|1.4|0.1|Iris-setosa|\n",
      "|4.3|3.0|1.1|0.1|Iris-setosa|\n",
      "+---+---+---+---+-----------+\n",
      "\n"
     ]
    }
   ],
   "source": [
    "df_pyspark.na.drop(how=\"any\").show()"
   ]
  },
  {
   "cell_type": "code",
   "execution_count": 7,
   "metadata": {},
   "outputs": [
    {
     "name": "stdout",
     "output_type": "stream",
     "text": [
      "+---+----+---+---+-----------+\n",
      "|  A|   B|  C|  D|          E|\n",
      "+---+----+---+---+-----------+\n",
      "|5.1| 3.5|1.4|0.2|Iris-setosa|\n",
      "|4.9| 3.0|1.4|0.2|Iris-setosa|\n",
      "|4.7| 3.2|1.3|0.2|Iris-setosa|\n",
      "|4.6| 3.1|1.5|0.2|Iris-setosa|\n",
      "|5.0|null|1.4|0.2|Iris-setosa|\n",
      "|5.4| 3.9|1.7|0.4|Iris-setosa|\n",
      "|4.6| 3.4|1.4|0.3|Iris-setosa|\n",
      "|5.0| 3.4|1.5|0.2|Iris-setosa|\n",
      "|4.9| 3.1|1.5|0.1|Iris-setosa|\n",
      "|5.4| 3.7|1.5|0.2|Iris-setosa|\n",
      "|4.8| 3.0|1.4|0.1|Iris-setosa|\n",
      "|4.3| 3.0|1.1|0.1|Iris-setosa|\n",
      "+---+----+---+---+-----------+\n",
      "\n"
     ]
    }
   ],
   "source": [
    "df_pyspark.na.drop(how=\"any\", thresh=4).show()"
   ]
  },
  {
   "cell_type": "code",
   "execution_count": 8,
   "metadata": {
    "scrolled": true
   },
   "outputs": [],
   "source": [
    "# df_pyspark.na.drop(how='any', subset=['A']).show()"
   ]
  },
  {
   "cell_type": "code",
   "execution_count": 9,
   "metadata": {},
   "outputs": [],
   "source": [
    "#df_pyspark.na.fill(\"Missing values\").show()"
   ]
  },
  {
   "cell_type": "code",
   "execution_count": 10,
   "metadata": {},
   "outputs": [
    {
     "name": "stdout",
     "output_type": "stream",
     "text": [
      "+----+----+----+---+-----------+\n",
      "|   A|   B|   C|  D|          E|\n",
      "+----+----+----+---+-----------+\n",
      "| 5.1| 3.5| 1.4|0.2|Iris-setosa|\n",
      "| 4.9| 3.0| 1.4|0.2|Iris-setosa|\n",
      "| 4.7| 3.2| 1.3|0.2|Iris-setosa|\n",
      "| 4.6| 3.1| 1.5|0.2|Iris-setosa|\n",
      "| 5.0|null| 1.4|0.2|Iris-setosa|\n",
      "| 5.4| 3.9| 1.7|0.4|Iris-setosa|\n",
      "| 4.6| 3.4| 1.4|0.3|Iris-setosa|\n",
      "| 5.0| 3.4| 1.5|0.2|Iris-setosa|\n",
      "|null| 2.9|null|0.2|    Mis val|\n",
      "| 4.9| 3.1| 1.5|0.1|Iris-setosa|\n",
      "| 5.4| 3.7| 1.5|0.2|Iris-setosa|\n",
      "|null| 3.4| 1.6|0.2|    Mis val|\n",
      "| 4.8| 3.0| 1.4|0.1|Iris-setosa|\n",
      "| 4.3| 3.0| 1.1|0.1|Iris-setosa|\n",
      "+----+----+----+---+-----------+\n",
      "\n"
     ]
    }
   ],
   "source": [
    "df_pyspark.na.fill('Mis val',['A','B','E']).show()"
   ]
  },
  {
   "cell_type": "code",
   "execution_count": 13,
   "metadata": {},
   "outputs": [],
   "source": [
    "# for filling nan value with mean\n",
    "\n",
    "from pyspark.ml.feature import Imputer\n",
    "imputer = Imputer(\n",
    "    inputCols = ['A', 'B', 'C'],\n",
    "    outputCols = [\"{}_imputed\".format(a) for a in ['A', 'B', 'C']]\n",
    ").setStrategy(\"median\")\n"
   ]
  },
  {
   "cell_type": "code",
   "execution_count": 14,
   "metadata": {},
   "outputs": [
    {
     "name": "stdout",
     "output_type": "stream",
     "text": [
      "+----+----+----+---+-----------+---------+---------+---------+\n",
      "|   A|   B|   C|  D|          E|A_imputed|B_imputed|C_imputed|\n",
      "+----+----+----+---+-----------+---------+---------+---------+\n",
      "| 5.1| 3.5| 1.4|0.2|Iris-setosa|      5.1|      3.5|      1.4|\n",
      "| 4.9| 3.0| 1.4|0.2|Iris-setosa|      4.9|      3.0|      1.4|\n",
      "| 4.7| 3.2| 1.3|0.2|Iris-setosa|      4.7|      3.2|      1.3|\n",
      "| 4.6| 3.1| 1.5|0.2|Iris-setosa|      4.6|      3.1|      1.5|\n",
      "| 5.0|null| 1.4|0.2|Iris-setosa|      5.0|      3.2|      1.4|\n",
      "| 5.4| 3.9| 1.7|0.4|Iris-setosa|      5.4|      3.9|      1.7|\n",
      "| 4.6| 3.4| 1.4|0.3|Iris-setosa|      4.6|      3.4|      1.4|\n",
      "| 5.0| 3.4| 1.5|0.2|Iris-setosa|      5.0|      3.4|      1.5|\n",
      "|null| 2.9|null|0.2|       null|      4.9|      2.9|      1.4|\n",
      "| 4.9| 3.1| 1.5|0.1|Iris-setosa|      4.9|      3.1|      1.5|\n",
      "| 5.4| 3.7| 1.5|0.2|Iris-setosa|      5.4|      3.7|      1.5|\n",
      "|null| 3.4| 1.6|0.2|       null|      4.9|      3.4|      1.6|\n",
      "| 4.8| 3.0| 1.4|0.1|Iris-setosa|      4.8|      3.0|      1.4|\n",
      "| 4.3| 3.0| 1.1|0.1|Iris-setosa|      4.3|      3.0|      1.1|\n",
      "+----+----+----+---+-----------+---------+---------+---------+\n",
      "\n"
     ]
    }
   ],
   "source": [
    "imputer.fit(df_pyspark).transform(df_pyspark).show()"
   ]
  },
  {
   "cell_type": "code",
   "execution_count": null,
   "metadata": {},
   "outputs": [],
   "source": []
  }
 ],
 "metadata": {
  "kernelspec": {
   "display_name": "Python 3",
   "language": "python",
   "name": "python3"
  },
  "language_info": {
   "codemirror_mode": {
    "name": "ipython",
    "version": 3
   },
   "file_extension": ".py",
   "mimetype": "text/x-python",
   "name": "python",
   "nbconvert_exporter": "python",
   "pygments_lexer": "ipython3",
   "version": "3.8.5"
  }
 },
 "nbformat": 4,
 "nbformat_minor": 4
}
